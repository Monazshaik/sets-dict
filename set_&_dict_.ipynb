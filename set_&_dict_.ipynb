{
  "nbformat": 4,
  "nbformat_minor": 0,
  "metadata": {
    "colab": {
      "provenance": [],
      "authorship_tag": "ABX9TyOTfdxU63xSqY94MyswLBEb",
      "include_colab_link": true
    },
    "kernelspec": {
      "name": "python3",
      "display_name": "Python 3"
    },
    "language_info": {
      "name": "python"
    }
  },
  "cells": [
    {
      "cell_type": "markdown",
      "metadata": {
        "id": "view-in-github",
        "colab_type": "text"
      },
      "source": [
        "<a href=\"https://colab.research.google.com/github/Monazshaik/sets-dict/blob/main/set_%26_dict_.ipynb\" target=\"_parent\"><img src=\"https://colab.research.google.com/assets/colab-badge.svg\" alt=\"Open In Colab\"/></a>"
      ]
    },
    {
      "cell_type": "code",
      "execution_count": 1,
      "metadata": {
        "colab": {
          "base_uri": "https://localhost:8080/"
        },
        "id": "JXRQw_oeRS9C",
        "outputId": "b8c83a81-9e18-44f7-efe6-184733c293ca"
      },
      "outputs": [
        {
          "output_type": "stream",
          "name": "stdout",
          "text": [
            "Set: {1, 2, 3, 4, 5}\n",
            "Set after removing 3: {1, 2, 4, 5}\n",
            "Dictionary: {'a': 1, 'b': 2, 'c': 3}\n",
            "Dictionary after update: {'a': 1, 'b': 2, 'c': 3, 'd': 4}\n",
            "Is 'b' in dictionary? True\n",
            "Dictionary after removing 'c': {'a': 1, 'b': 2, 'd': 4}\n"
          ]
        }
      ],
      "source": [
        "class DataAnalyzer:\n",
        "    def __init__(self):\n",
        "        self.data_set = set()\n",
        "        self.data_dict = {}\n",
        "\n",
        "    def add_to_set(self, elements):\n",
        "        self.data_set.update(elements)\n",
        "\n",
        "    def remove_from_set(self, element):\n",
        "        self.data_set.discard(element)\n",
        "\n",
        "    def get_set(self):\n",
        "        return self.data_set\n",
        "\n",
        "    def create_dictionary(self, keys, values):\n",
        "        self.data_dict = {keys[i]: values[i] for i in range(len(keys))}\n",
        "\n",
        "    def update_dictionary(self, key, value):\n",
        "        self.data_dict[key] = value\n",
        "\n",
        "    def get_dictionary(self):\n",
        "        return self.data_dict\n",
        "\n",
        "    def search_dictionary(self, key):\n",
        "        return key in self.data_dict\n",
        "\n",
        "    def remove_from_dictionary(self, key):\n",
        "        if key in self.data_dict:\n",
        "            del self.data_dict[key]\n",
        "\n",
        "\n",
        "# Example usage:\n",
        "da = DataAnalyzer()\n",
        "da.add_to_set([1, 2, 3, 4, 5])\n",
        "print(\"Set:\", da.get_set())\n",
        "\n",
        "da.remove_from_set(3)\n",
        "print(\"Set after removing 3:\", da.get_set())\n",
        "\n",
        "da.create_dictionary(['a', 'b', 'c'], [1, 2, 3])\n",
        "print(\"Dictionary:\", da.get_dictionary())\n",
        "\n",
        "da.update_dictionary('d', 4)\n",
        "print(\"Dictionary after update:\", da.get_dictionary())\n",
        "\n",
        "print(\"Is 'b' in dictionary?\", da.search_dictionary('b'))\n",
        "\n",
        "da.remove_from_dictionary('c')\n",
        "print(\"Dictionary after removing 'c':\", da.get_dictionary())\n"
      ]
    }
  ]
}